{
 "cells": [
  {
   "cell_type": "markdown",
   "metadata": {
    "pycharm": {
     "name": "#%% md\n"
    }
   },
   "source": [
    "# GeoCAT Project Structure\n",
    "\n",
    "Most, if not all, of GeoCAT’s software assets (code, documentation, example\n",
    "data sets), like many open development projects, are maintained in GitHub\n",
    "repositories. The GeoCAT team develops and maintains multiple software\n",
    "tools, each consisting of single or multiple GitHub repositories.\n",
    "\n",
    "The GeoCAT project structure with all the software tools comprised of these\n",
    "repositories can be seen as follows:"
   ]
  },
  {
   "cell_type": "markdown",
   "metadata": {},
   "source": [
    "<center>\n",
    "<img src=\"../../images/geocat/fig4_structure.png\" width=\"100%\" alt=\"GeoCAT Project Structure\">\n",
    "</center>"
   ]
  }
 ],
 "metadata": {
  "kernelspec": {
   "display_name": "Python 3 (ipykernel)",
   "language": "python",
   "name": "python3"
  },
  "language_info": {
   "codemirror_mode": {
    "name": "ipython",
    "version": 3
   },
   "file_extension": ".py",
   "mimetype": "text/x-python",
   "name": "python",
   "nbconvert_exporter": "python",
   "pygments_lexer": "ipython3",
   "version": "3.10.6"
  }
 },
 "nbformat": 4,
 "nbformat_minor": 4
}