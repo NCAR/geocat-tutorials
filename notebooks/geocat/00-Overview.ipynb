{
 "cells": [
  {
   "cell_type": "markdown",
   "source": [
    "# GeoCAT Overview"
   ],
   "metadata": {
    "collapsed": false
   }
  },
  {
   "cell_type": "markdown",
   "metadata": {},
   "source": [
    "<img src=\"../images/logos/GeoCAT_long.svg\" align=\"left\" width=\"50%\" alt=\"GeoCAT logo\">\n",
    "<img src=\"../images/logos/NSF_Official_logo.svg\" align=\"right\" width=\"19%\" alt=\"NSF logo\">"
   ]
  },
  {
   "cell_type": "markdown",
   "metadata": {
    "pycharm": {
     "name": "#%% md\n"
    }
   },
   "source": [
    "## What is GeoCAT?\n",
    "\n",
    "Geoscience Community Analysis Toolkit (GeoCAT), established in 2019, leads the\n",
    "software engineering efforts of the National Center for Atmospheric Research\n",
    "(NCAR) Computational and Information Systems Lab (CISL)’s “Pivot to Python”\n",
    "initiative. Support for GeoCAT is provided by the U.S. National Science\n",
    "Foundation.\n"
   ]
  },
  {
   "cell_type": "markdown",
   "metadata": {},
   "source": [
    "### GeoCAT Goals\n",
    "\n",
    "1. Development of data analysis and visualization tools for geoscience research\n",
    "2. Scalability\n",
    "3. Open development\n",
    "\n",
    "GeoCAT essentially aims at creating scalable data analysis and visualization\n",
    "tools for Earth System Science data to serve the geosciences community in the\n",
    "scientific Python ecosystem. GeoCAT tools are built upon the cornerstone\n",
    "technologies in the **Pangeo** stack such as **Xarray**, **Dask**, and\n",
    "**Jupyter Notebooks**.\n",
    "\n",
    "<center>\n",
    "<img src=\"../images/geocat/fig1_coretech.png\" width=\"75%\" alt=\"Core technology GeoCAT relies upon\">\n",
    "</center>\n",
    "\n",
    "Novel research and development is conducted for analyzing/visualizing\n",
    "**structured** as well as **unstructured grid** data from various research\n",
    "fields such as climate, weather, atmosphere, ocean, etc. In addition, some of\n",
    "the functionalities in the GeoCAT stack are inspired/reimplemented from NCL\n",
    "(NCAR Command Language).\n"
   ]
  },
  {
   "cell_type": "markdown",
   "metadata": {
    "pycharm": {
     "name": "#%% md\n"
    }
   },
   "source": [
    "### Some GeoCAT Resources\n",
    "\n",
    "[Homepage](https://geocat.ucar.edu/)\n",
    "\n",
    "[GeoCAT software tools list](https://geocat.ucar.edu/pages/software.html)\n",
    "\n",
    "[Contributor's Guide](https://geocat.ucar.edu/pages/contributing.html)\n",
    "\n",
    "[Project Raijin](https://raijin.ucar.edu/)\n"
   ]
  },
  {
   "cell_type": "markdown",
   "metadata": {},
   "source": [
    "## GeoCAT Continuous Integration and Continuous Delivery/Deployment\n",
    "\n",
    "GeoCAT employs a continuous delivery model, with a monthly package release\n",
    "cycle on package management systems and package indexes such as\n",
    "[Conda](https://anaconda.org/search?q=geocat) and\n",
    "[PyPI](https://pypi.org/search/?q=geocat).\n",
    "\n"
   ]
  }
 ],
 "metadata": {
  "kernelspec": {
   "display_name": "Python 3 (ipykernel)",
   "language": "python",
   "name": "python3"
  },
  "language_info": {
   "codemirror_mode": {
    "name": "ipython",
    "version": 3
   },
   "file_extension": ".py",
   "mimetype": "text/x-python",
   "name": "python",
   "nbconvert_exporter": "python",
   "pygments_lexer": "ipython3",
   "version": "3.10.6"
  }
 },
 "nbformat": 4,
 "nbformat_minor": 4
}