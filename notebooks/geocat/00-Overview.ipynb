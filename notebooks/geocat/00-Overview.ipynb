{
 "cells": [
  {
   "cell_type": "markdown",
   "metadata": {},
   "source": [
    "<img src=\"../../images/logos/GeoCAT_long.svg\" align=\"left\" width=\"50%\" alt=\"GeoCAT logo\">\n",
    "<img src=\"../../images/logos/NSF_Official_logo.svg\" align=\"right\" width=\"19%\" alt=\"NSF logo\">"
   ]
  },
  {
   "cell_type": "markdown",
   "metadata": {
    "pycharm": {
     "name": "#%% md\n"
    }
   },
   "source": [
    "# What is GeoCAT?\n",
    "\n",
    "Geoscience Community Analysis Toolkit (GeoCAT), established in 2019, leads the\n",
    "software engineering efforts of the National Center for Atmospheric Research\n",
    "(NCAR) Computational and Information Systems Lab (CISL)’s “Pivot to Python”\n",
    "initiative. Support for GeoCAT is provided by the U.S. National Science\n",
    "Foundation.\n"
   ]
  },
  {
   "cell_type": "markdown",
   "metadata": {},
   "source": [
    "## GeoCAT Goals\n",
    "\n",
    "1. Development of data analysis and visualization tools for geoscience research\n",
    "2. Scalability\n",
    "3. Open development\n",
    "\n",
    "GeoCAT essentially aims at creating scalable data analysis and visualization tools for Earth System Science data to serve the geosciences community in the scientific Python ecosystem. GeoCAT tools are built upon the cornerstone technologies in the Pangeo stack such as Xarray, Dask, and Jupyter Notebooks. Novel research and development is conducted for analyzing/visualizing structured as well as unstructured grid data from various research fields such as climate, weather, atmosphere, ocean, etc. In addition, some of the functionalities in the GeoCAT stack are inspired/reimplemented from NCL (NCAR Command Language).\n",
    "\n",
    "\n"
   ]
  },
  {
   "cell_type": "code",
   "execution_count": null,
   "metadata": {},
   "outputs": [],
   "source": []
  }
 ],
 "metadata": {
  "kernelspec": {
   "display_name": "Python 3 (ipykernel)",
   "language": "python",
   "name": "python3"
  },
  "language_info": {
   "codemirror_mode": {
    "name": "ipython",
    "version": 3
   },
   "file_extension": ".py",
   "mimetype": "text/x-python",
   "name": "python",
   "nbconvert_exporter": "python",
   "pygments_lexer": "ipython3",
   "version": "3.10.6"
  }
 },
 "nbformat": 4,
 "nbformat_minor": 4
}