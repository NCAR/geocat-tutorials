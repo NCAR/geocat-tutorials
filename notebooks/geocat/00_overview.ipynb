{
 "cells": [
  {
   "cell_type": "markdown",
   "source": [
    "<img src=\"images/logos/GeoCAT_long.svg\" align=\"left\" width=\"30%\" alt=\"GeoCAT logo\">"
   ],
   "metadata": {
    "collapsed": false
   }
  },
  {
   "cell_type": "markdown",
   "metadata": {
    "collapsed": true,
    "pycharm": {
     "name": "#%% md\n"
    }
   },
   "source": [
    "Geoscience Community Analysis Toolkit (GeoCAT), established in 2019, leads the\n",
    "software engineering efforts of the National Center for Atmospheric Research\n",
    "(NCAR) Computational and Information Systems Lab (CISL)’s “Pivot to Python”\n",
    "initiative. Support for GeoCAT is provided by the U.S. National Science\n",
    "Foundation.\n",
    "\n",
    "\n"
   ]
  }
 ],
 "metadata": {
  "kernelspec": {
   "display_name": "Python 3",
   "language": "python",
   "name": "python3"
  },
  "language_info": {
   "codemirror_mode": {
    "name": "ipython",
    "version": 2
   },
   "file_extension": ".py",
   "mimetype": "text/x-python",
   "name": "python",
   "nbconvert_exporter": "python",
   "pygments_lexer": "ipython2",
   "version": "2.7.6"
  }
 },
 "nbformat": 4,
 "nbformat_minor": 0
}