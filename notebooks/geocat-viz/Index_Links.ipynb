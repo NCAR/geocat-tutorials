{
 "cells": [
  {
   "cell_type": "markdown",
   "id": "3847df66-b741-4564-a929-370bb326f780",
   "metadata": {},
   "source": [
    "# GeoCAT-examples tutorial\n",
    "\n",
    "- [GeoCAT-comp docs](https://geocat-comp.readthedocs.io/en/stable/#)\n",
    "- [GeoCAT-examples docs](https://geocat-examples.readthedocs.io/en/stable/#)\n",
    "- [GeoCAT-viz docs](https://geocat-viz.readthedocs.io/en/stable/#)"
   ]
  },
  {
   "cell_type": "markdown",
   "id": "1406a285-a1ca-46c0-af10-0f7288e4a681",
   "metadata": {},
   "source": [
    "1. What is GeoCAT-examples? (1-2 minutes)\n",
    "   1. A way to share the code needed to recreate NCL replica plots.\n",
    "   1. This allows scientists who are using python, to allow for easy and accurate qualitative comparison to plots produced by researchers who used NCL. \n",
    "1. What is GeoCAT-viz (1-2 minutes)\n",
    "   1. A work in progess to make functions for replicating the NCL plots directly, usually in a single call.\n",
    "   1. We think that this will be a valuable time and effort saving utility for scientists who are migrating from NCL. \n",
    "1. Docs overview. (5-10 minutes)\n",
    "   1. Examples\n",
    "       1. [Notebook Gallery (MPAS)](https://geocat-examples.readthedocs.io/en/stable/gallery-notebooks/Datashader/MPAS_Datashader_Trimesh.html)\n",
    "       1. [Regular Gallery](https://geocat-examples.readthedocs.io/en/stable/gallery/index.html#)\n",
    "   1. Viz\n",
    "       1. [Tayor Diagrams](https://geocat-viz.readthedocs.io/en/latest/user_api/generated/geocat.viz.TaylorDiagram.html#geocat.viz.TaylorDiagram)\n",
    "1. Demo on running examples. (5-10 minutes each, 30-40 minutes total) \n",
    "   1. (maybe just do two, and talk in depth about what we are doing with MPL)\n",
    "   1. [NCL_animate_1.ipynb](https://geocat-examples.readthedocs.io/en/latest/gallery/Animations/NCL_animate_1.html#sphx-glr-gallery-animations-ncl-animate-1-py)\n",
    "   1. [NCL_conOncon_5.ipynb](https://geocat-examples.readthedocs.io/en/latest/gallery/Contours/NCL_conOncon_5.html#sphx-glr-gallery-contours-ncl-cononcon-5-py)\n",
    "   1. [NCL_taylor_6.ipynb](https://geocat-examples.readthedocs.io/en/latest/gallery/TaylorDiagrams/NCL_taylor_6.html#sphx-glr-gallery-taylordiagrams-ncl-taylor-6-py)\n",
    "1. What is GeoCAT-viz? (1-2 minutes)\n",
    "1. Q&A for any remaining time, and I'll be available at the end of the day for additional questions."
   ]
  },
  {
   "cell_type": "code",
   "execution_count": null,
   "id": "fae7167a-f017-4ed5-ac4d-66eff07cd574",
   "metadata": {},
   "outputs": [],
   "source": []
  }
 ],
 "metadata": {
  "kernelspec": {
   "display_name": "Python 3 (ipykernel)",
   "language": "python",
   "name": "python3"
  },
  "language_info": {
   "codemirror_mode": {
    "name": "ipython",
    "version": 3
   },
   "file_extension": ".py",
   "mimetype": "text/x-python",
   "name": "python",
   "nbconvert_exporter": "python",
   "pygments_lexer": "ipython3",
   "version": "3.10.6"
  }
 },
 "nbformat": 4,
 "nbformat_minor": 5
}
