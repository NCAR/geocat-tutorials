{
 "cells": [
  {
   "cell_type": "markdown",
   "id": "3847df66-b741-4564-a929-370bb326f780",
   "metadata": {},
   "source": [
    "## Index and Links for GeoCAT-viz and GeoCAT-examples tutorials.\n",
    "\n",
    "- [GeoCAT-comp docs](https://geocat-comp.readthedocs.io/en/stable/#)\n",
    "- [GeoCAT-examples docs](https://geocat-examples.readthedocs.io/en/stable/#)\n",
    "- [GeoCAT-viz docs](https://geocat-viz.readthedocs.io/en/stable/#)"
   ]
  },
  {
   "cell_type": "markdown",
   "id": "1406a285-a1ca-46c0-af10-0f7288e4a681",
   "metadata": {},
   "source": [
    "## Tutorial outline\n",
    "1. What is GeoCAT-examples? (1-2 minutes)\n",
    "1. Docs overview. (5-10 minutes)\n",
    "   1. Examples\n",
    "       1. [Notebook Gallery (MPAS)](https://geocat-examples.readthedocs.io/en/stable/gallery-notebooks/Datashader/MPAS_Datashader_Trimesh.html)\n",
    "       1. [Regular Gallery](https://geocat-examples.readthedocs.io/en/stable/gallery/index.html#)\n",
    "   1. Viz\n",
    "       1. [Tayor Diagrams](https://geocat-viz.readthedocs.io/en/latest/user_api/generated/geocat.viz.TaylorDiagram.html#geocat.viz.TaylorDiagram)\n",
    "1. Demo on running examples. (5-10 minutes each, 30-40 minutes total) \n",
    "   1. [NCL_animate_1.ipynb](https://geocat-examples.readthedocs.io/en/latest/gallery/Animations/NCL_animate_1.html#sphx-glr-gallery-animations-ncl-animate-1-py)\n",
    "   1. [NCL_conOncon_5.ipynb](https://geocat-examples.readthedocs.io/en/latest/gallery/Contours/NCL_conOncon_5.html#sphx-glr-gallery-contours-ncl-cononcon-5-py)\n",
    "   1. \n",
    "   1. \n",
    "   1. [NCL_taylor_6.ipynb](https://geocat-examples.readthedocs.io/en/latest/gallery/TaylorDiagrams/NCL_taylor_6.html#sphx-glr-gallery-taylordiagrams-ncl-taylor-6-py)\n",
    "1. What is GeoCAT-viz? (1-2 minutes)\n",
    "1. Q&A for any remaining time, and I'll be available at the end of the day for additional questions."
   ]
  }
 ],
 "metadata": {
  "kernelspec": {
   "display_name": "Python 3 (ipykernel)",
   "language": "python",
   "name": "python3"
  },
  "language_info": {
   "name": ""
  }
 },
 "nbformat": 4,
 "nbformat_minor": 5
}
