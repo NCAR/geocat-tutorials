{
 "cells": [
  {
   "cell_type": "markdown",
   "id": "dee77f6c-eb12-471d-818f-8e6e449615eb",
   "metadata": {
    "tags": []
   },
   "source": [
    "# GeoCAT-viz Demo 1\n",
    "\n",
    "## NCL_animate_1.py\n",
    "__This script illustrates the following concepts:__\n",
    "- Creating animations using matplotlib.FuncAnimation\n",
    "\n",
    "__See following URLs to see the reproduced NCL plot & script:__\n",
    "- Original NCL script: https://www.ncl.ucar.edu/Applications/Scripts/animate_1.ncl\n",
    "\n",
    "- Original NCL plot: https://www.ncl.ucar.edu/Applications/Images/animate_1_1_lg.png\n",
    "\n",
    "__Please note:__\n",
    "- Executing this script will not display a gif, but you have the option to uncomment a line at the bottom that will save a gif in the same directory as this script."
   ]
  },
  {
   "cell_type": "markdown",
   "id": "ee455ce9-2d63-4710-96c9-029837043a23",
   "metadata": {
    "tags": []
   },
   "source": [
    "### Imports"
   ]
  },
  {
   "cell_type": "code",
   "execution_count": null,
   "id": "12926c4f-f480-4037-873b-8f44ba859ae4",
   "metadata": {},
   "outputs": [],
   "source": [
    "import cartopy.crs as ccrs\n",
    "import matplotlib.animation as animation\n",
    "import numpy as np\n",
    "import xarray as xr\n",
    "from matplotlib import pyplot as plt\n",
    "\n",
    "import geocat.datafiles as gdf\n",
    "import geocat.viz as gv"
   ]
  },
  {
   "cell_type": "markdown",
   "id": "e7ef76b1-9513-4b83-aa03-6131042afafe",
   "metadata": {},
   "source": [
    "### Data Import"
   ]
  },
  {
   "cell_type": "code",
   "execution_count": null,
   "id": "3873a1ab-5790-4f24-b113-8e4d4c8648a1",
   "metadata": {},
   "outputs": [],
   "source": [
    "# Open a netCDF data file using xarray default engine and load the data into xarrays\n",
    "# Disable time decoding due to missing necessary metadata\n",
    "ds = xr.open_dataset(gdf.get(\"netcdf_files/meccatemp.cdf\"), decode_times=False)\n",
    "\n",
    "tas = ds.t"
   ]
  },
  {
   "cell_type": "markdown",
   "id": "7211f8c7-7862-4f86-bc28-4261197b60b8",
   "metadata": {},
   "source": [
    "### Figure Setup"
   ]
  },
  {
   "cell_type": "code",
   "execution_count": null,
   "id": "c6cb1031-5ec7-4981-81b8-4e1e31a2385b",
   "metadata": {},
   "outputs": [],
   "source": [
    "fig = plt.figure(figsize=(10, 8))\n",
    "# Generate axes using Cartopy and draw coastlines\n",
    "ax = plt.axes(projection=ccrs.PlateCarree(central_longitude=150))\n",
    "ax.coastlines(linewidths=0.5)\n",
    "ax.set_extent([-180, 180, -90, 90], ccrs.PlateCarree())\n",
    "\n",
    "# Use geocat.viz.util convenience function to set axes limits & tick values\n",
    "gv.set_axes_limits_and_ticks(ax,\n",
    "                             xlim=(-180, 180),\n",
    "                             ylim=(-90, 90),\n",
    "                             xticks=np.linspace(-180, 180, 13),\n",
    "                             yticks=np.linspace(-90, 90, 7))\n",
    "\n",
    "# Use geocat.viz.util convenience function to add minor and major tick lines\n",
    "gv.add_major_minor_ticks(ax, labelsize=10)\n",
    "\n",
    "# Use geocat.viz.util convenience function to make latitude, longitude tick labels\n",
    "gv.add_lat_lon_ticklabels(ax)\n",
    "\n",
    "# create initial plot that establishes a colorbar\n",
    "tas[0, :, :].plot.contourf(ax=ax,\n",
    "                           transform=ccrs.PlateCarree(),\n",
    "                           vmin=195,\n",
    "                           vmax=328,\n",
    "                           levels=53,\n",
    "                           cmap=\"inferno\",\n",
    "                           cbar_kwargs={\n",
    "                               \"extendrect\": True,\n",
    "                               \"orientation\": \"horizontal\",\n",
    "                               \"ticks\": np.arange(195, 332, 9),\n",
    "                               \"label\": \"\",\n",
    "                               \"shrink\": 0.90\n",
    "                           })"
   ]
  },
  {
   "cell_type": "markdown",
   "id": "d8717d71-744c-43ee-a8f7-b4038026636c",
   "metadata": {},
   "source": [
    "### Amination Function"
   ]
  },
  {
   "cell_type": "code",
   "execution_count": null,
   "id": "6d964050-af2c-4308-b783-e6ae6a6c6ef2",
   "metadata": {},
   "outputs": [],
   "source": [
    "# animate function for matplotlib FuncAnimation\n",
    "def animate(i):\n",
    "    tas[i, :, :].plot.contourf(\n",
    "        ax=ax,\n",
    "        transform=ccrs.PlateCarree(),\n",
    "        vmin=195,\n",
    "        vmax=328,\n",
    "        levels=53,\n",
    "        cmap=\"inferno\",\n",
    "        add_colorbar=False,\n",
    "    )\n",
    "\n",
    "    gv.set_titles_and_labels(\n",
    "        ax,\n",
    "        maintitle=\"January Global Surface Temperature (K) - Day  \" +\n",
    "        str(tas.coords['time'].values[i])[:13],\n",
    "        xlabel=\"\",\n",
    "        ylabel=\"\")"
   ]
  },
  {
   "cell_type": "markdown",
   "id": "929bc18b-aeca-4a35-bbb9-45f436074c51",
   "metadata": {},
   "source": [
    "### Animation Display"
   ]
  },
  {
   "cell_type": "code",
   "execution_count": null,
   "id": "503b6315-8e39-4507-8906-eabeed7f30bd",
   "metadata": {},
   "outputs": [],
   "source": [
    "# runs the animation initiated with the frame from init and progressed with the animate function\n",
    "anim = animation.FuncAnimation(fig, animate, frames=30, interval=200)"
   ]
  },
  {
   "cell_type": "markdown",
   "id": "9f581f16-f90d-4820-89f7-952e131bef7f",
   "metadata": {},
   "source": [
    "### Save Animation"
   ]
  },
  {
   "cell_type": "code",
   "execution_count": null,
   "id": "dbfc882b-a78b-40f5-8cd1-9f6af2c6fa3f",
   "metadata": {},
   "outputs": [],
   "source": [
    "# Uncomment this line to save the created animation\n",
    "anim.save('animate_1.gif', writer='pillow', fps=5)"
   ]
  },
  {
   "cell_type": "code",
   "execution_count": null,
   "id": "a8fb8263-f243-4a5e-8cf2-2d3a7822f082",
   "metadata": {},
   "outputs": [],
   "source": []
  },
  {
   "cell_type": "code",
   "execution_count": null,
   "id": "5ff4162b-e689-4312-a9fd-4b1c97f7a732",
   "metadata": {},
   "outputs": [],
   "source": []
  }
 ],
 "metadata": {
  "kernelspec": {
   "display_name": "Python 3 (ipykernel)",
   "language": "python",
   "name": "python3"
  },
  "language_info": {
   "codemirror_mode": {
    "name": "ipython",
    "version": 3
   },
   "file_extension": ".py",
   "mimetype": "text/x-python",
   "name": "python",
   "nbconvert_exporter": "python",
   "pygments_lexer": "ipython3",
   "version": "3.10.6"
  }
 },
 "nbformat": 4,
 "nbformat_minor": 5
}
