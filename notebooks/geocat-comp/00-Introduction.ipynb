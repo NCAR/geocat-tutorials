{
 "cells": [
  {
   "cell_type": "markdown",
   "id": "ce951d3e",
   "metadata": {
    "slideshow": {
     "slide_type": "slide"
    }
   },
   "source": [
    "# Introduction to GeoCAT-comp"
   ]
  },
  {
   "cell_type": "markdown",
   "id": "bfd7fcee",
   "metadata": {
    "slideshow": {
     "slide_type": "skip"
    }
   },
   "source": [
    "To see this notebook as a slideshow run:\n",
    "```bash\n",
    "jupyter nbconvert slideshow.ipynb --to slides --post serve\n",
    "```"
   ]
  },
  {
   "cell_type": "markdown",
   "id": "b5faca42",
   "metadata": {
    "slideshow": {
     "slide_type": "slide"
    }
   },
   "source": [
    "## What is GeoCAT-comp?"
   ]
  },
  {
   "cell_type": "markdown",
   "id": "0e9eb00d-d199-417d-a942-672db433ccd7",
   "metadata": {
    "slideshow": {
     "slide_type": "fragment"
    },
    "tags": []
   },
   "source": [
    "GeoCAT-comp is the main repository for the computational functions of the project. These functions are in pure Python, and they compute derived data values, calculate statistical summaries, and do any other data transformations that don’t include visualizations."
   ]
  },
  {
   "cell_type": "markdown",
   "id": "affb26a7-773e-4f94-a333-6e0cdccdc1e7",
   "metadata": {
    "slideshow": {
     "slide_type": "fragment"
    },
    "tags": []
   },
   "source": [
    "On linux and mac, when you install GeoCAT-comp, GeoCAT-f2py is automatically installed into the same namespace, which means you get all the functions housed in the GeoCAT-f2py as well. \n",
    "\n",
    "These functions under the GeoCAT-f2py repository are made of python wrappers around compiled Fortran code."
   ]
  },
  {
   "cell_type": "markdown",
   "id": "51e31eb8",
   "metadata": {},
   "source": [
    "## GeoCAT-comp Documentation"
   ]
  },
  {
   "cell_type": "markdown",
   "id": "0622a129",
   "metadata": {},
   "source": [
    "For the most up-to-date material on `geocat-comp`, visit the [GeoCAT-comp documentation](https://geocat-comp.readthedocs.io/en/stable/)."
   ]
  },
  {
   "cell_type": "markdown",
   "id": "283aef75",
   "metadata": {},
   "source": [
    "<iframe src=\"https://geocat-comp.readthedocs.io/en/latest/\" title=\"geocat-comp relhum documentation\" width=100% height=600></iframe>"
   ]
  },
  {
   "cell_type": "markdown",
   "id": "af940b18",
   "metadata": {},
   "source": [
    "## How to get help\n",
    "\n",
    "We really want your involvement! Having trouble getting our package to work? Want a new feature from us? Found a bug? Please let us know. There are several ways to reach out to our team:\n",
    "- Submitting an issue on our [GitHub repository](https://github.com/NCAR/geocat-comp/issues)\n",
    "- Scheduling a meeting though ESDS office hours\n",
    "- Using our [feature request form](https://docs.google.com/forms/d/e/1FAIpQLSeWuogl8Z671et3DdrmglenBPKGFmHVHkpSamTQeoPGuytLZw/viewform)\n",
    "- Emailing us directly at geocat@ucar.edu"
   ]
  }
 ],
 "metadata": {
  "celltoolbar": "Slideshow",
  "kernelspec": {
   "display_name": "Python 3 (ipykernel)",
   "language": "python",
   "name": "python3"
  },
  "language_info": {
   "codemirror_mode": {
    "name": "ipython",
    "version": 3
   },
   "file_extension": ".py",
   "mimetype": "text/x-python",
   "name": "python",
   "nbconvert_exporter": "python",
   "pygments_lexer": "ipython3",
   "version": "3.9.13"
  }
 },
 "nbformat": 4,
 "nbformat_minor": 5
}
