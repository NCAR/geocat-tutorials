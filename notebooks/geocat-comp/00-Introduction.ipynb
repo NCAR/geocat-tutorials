{
 "cells": [
  {
   "cell_type": "markdown",
   "id": "ce951d3e",
   "metadata": {
    "slideshow": {
     "slide_type": "slide"
    }
   },
   "source": [
    "# Introduction to GeoCAT-comp"
   ]
  },
  {
   "cell_type": "markdown",
   "id": "bfd7fcee",
   "metadata": {
    "slideshow": {
     "slide_type": "skip"
    }
   },
   "source": [
    "To see this notebook as a slideshow run:\n",
    "```bash\n",
    "jupyter nbconvert slideshow.ipynb --to slides --post serve\n",
    "```"
   ]
  },
  {
   "cell_type": "markdown",
   "id": "b5faca42",
   "metadata": {
    "slideshow": {
     "slide_type": "slide"
    }
   },
   "source": [
    "## What is GeoCAT-comp?"
   ]
  },
  {
   "cell_type": "markdown",
   "id": "0e9eb00d-d199-417d-a942-672db433ccd7",
   "metadata": {
    "slideshow": {
     "slide_type": "fragment"
    },
    "tags": []
   },
   "source": [
    "GeoCAT-comp is the main repository for the computational functions of the project. These functions are in pure Python, and they compute derived data values, calculate statistical summaries, and do any other data transformations that don’t include visualizations."
   ]
  },
  {
   "cell_type": "markdown",
   "id": "d2d87fa2-2de1-4b0e-8672-8feadf4142fe",
   "metadata": {
    "slideshow": {
     "slide_type": "fragment"
    },
    "tags": []
   },
   "source": [
    "Many of these functions are Python-based modernizations of NCL functions"
   ]
  },
  {
   "cell_type": "markdown",
   "id": "5a1ae3e2-6c4b-4d48-9b49-6ceadee732d7",
   "metadata": {
    "slideshow": {
     "slide_type": "slide"
    },
    "tags": []
   },
   "source": [
    "You can see the most up-to-date development and get invovled with contributing to the project at our GitHub repository\n",
    "\n",
    "<iframe src=\"https://github.com/NCAR/geocat-comp\" title=\"geocat-comp github\" width=100% height=450></iframe>"
   ]
  },
  {
   "cell_type": "markdown",
   "id": "4349593d-46ab-40f9-b7b8-30950291f925",
   "metadata": {
    "slideshow": {
     "slide_type": "slide"
    },
    "tags": []
   },
   "source": [
    "## GeoCAT-f2py\n",
    "\n",
    "From a user perspective GeoCAT-comp also insludes compiled code implementations housed in GeoCAT-f2py"
   ]
  },
  {
   "cell_type": "markdown",
   "id": "6b02f62e-b445-4e60-8f29-46ab684f20fb",
   "metadata": {
    "slideshow": {
     "slide_type": "fragment"
    },
    "tags": []
   },
   "source": [
    "On linux and mac, when you install GeoCAT-comp, GeoCAT-f2py is automatically installed into the same namespace, which means you get all the functions housed in the GeoCAT-f2py as well. \n",
    "\n",
    "These functions under the GeoCAT-f2py repository are made of python wrappers around compiled Fortran code."
   ]
  },
  {
   "cell_type": "markdown",
   "id": "51e31eb8",
   "metadata": {
    "slideshow": {
     "slide_type": "slide"
    },
    "tags": []
   },
   "source": [
    "## GeoCAT-comp Documentation"
   ]
  },
  {
   "cell_type": "markdown",
   "id": "0622a129",
   "metadata": {
    "slideshow": {
     "slide_type": "fragment"
    },
    "tags": []
   },
   "source": [
    "For the most up-to-date material on `geocat-comp`, visit the [GeoCAT-comp documentation](https://geocat-comp.readthedocs.io/en/stable/).\n",
    "\n",
    "<iframe src=\"https://geocat-comp.readthedocs.io/en/latest/\" title=\"geocat-comp documentation homepage\" width=100% height=450></iframe>"
   ]
  },
  {
   "cell_type": "markdown",
   "id": "af940b18",
   "metadata": {
    "slideshow": {
     "slide_type": "slide"
    },
    "tags": []
   },
   "source": [
    "## How to get help\n",
    "\n",
    "We really want your involvement! Having trouble getting our package to work? Want a new feature from us? Found a bug? Please let us know. There are several ways to reach out to our team:"
   ]
  },
  {
   "cell_type": "markdown",
   "id": "e115d68d-5ec7-432e-b7a8-a31f538d09da",
   "metadata": {
    "slideshow": {
     "slide_type": "fragment"
    },
    "tags": []
   },
   "source": [
    "- Submitting an issue on our [GitHub repository](https://github.com/NCAR/geocat-comp/issues)"
   ]
  },
  {
   "cell_type": "markdown",
   "id": "455a3c82-cdc5-4303-9044-76c1770759b9",
   "metadata": {
    "slideshow": {
     "slide_type": "fragment"
    },
    "tags": []
   },
   "source": [
    "- Scheduling a meeting though ESDS office hours"
   ]
  },
  {
   "cell_type": "markdown",
   "id": "a420f95c-c6f3-489f-9593-7df5cbd8d28d",
   "metadata": {
    "slideshow": {
     "slide_type": "fragment"
    },
    "tags": []
   },
   "source": [
    "- Using our [feature request form](https://docs.google.com/forms/d/e/1FAIpQLSeWuogl8Z671et3DdrmglenBPKGFmHVHkpSamTQeoPGuytLZw/viewform)"
   ]
  },
  {
   "cell_type": "markdown",
   "id": "da7b13c3-0ad6-4699-ac8d-edd503ddb147",
   "metadata": {
    "slideshow": {
     "slide_type": "fragment"
    },
    "tags": []
   },
   "source": [
    "- Emailing us directly at geocat@ucar.edu"
   ]
  }
 ],
 "metadata": {
  "celltoolbar": "Slideshow",
  "kernelspec": {
   "display_name": "Python 3 (ipykernel)",
   "language": "python",
   "name": "python3"
  },
  "language_info": {
   "codemirror_mode": {
    "name": "ipython",
    "version": 3
   },
   "file_extension": ".py",
   "mimetype": "text/x-python",
   "name": "python",
   "nbconvert_exporter": "python",
   "pygments_lexer": "ipython3",
   "version": "3.10.6"
  },
  "vscode": {
   "interpreter": {
    "hash": "aee8b7b246df8f9039afb4144a1f6fd8d2ca17a180786b69acc140d282b71a49"
   }
  }
 },
 "nbformat": 4,
 "nbformat_minor": 5
}
