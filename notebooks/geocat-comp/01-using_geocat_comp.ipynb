{
 "cells": [
  {
   "cell_type": "markdown",
   "id": "fc5f7b4b-a30e-4766-96ef-8dfc86dc44b5",
   "metadata": {},
   "source": [
    "# A Soft Starter: Relative Humidity"
   ]
  },
  {
   "cell_type": "markdown",
   "id": "b0b9da87-fb66-4b05-8b29-ab86f747b2a8",
   "metadata": {},
   "source": [
    "This notebook will show how to use a simple geocat-comp function just to get a feel for how to use the library. \n",
    "\n",
    "We will use the `relhum` function to calculate relative humidity from temperature and dewpoint temperature."
   ]
  },
  {
   "cell_type": "markdown",
   "id": "c787ba84-5ea2-4833-8afa-f978d98af18f",
   "metadata": {},
   "source": [
    "## Dependencies\n",
    "- geocat-comp\n",
    "- geocat-datafiles\n",
    "- xarray"
   ]
  },
  {
   "cell_type": "markdown",
   "id": "82c6c121",
   "metadata": {},
   "source": [
    "## Imports"
   ]
  },
  {
   "cell_type": "code",
   "execution_count": 1,
   "id": "f59d3a95",
   "metadata": {},
   "outputs": [],
   "source": [
    "import geocat.datafiles as gdf\n",
    "from geocat.comp import relhum\n",
    "import xarray as xr"
   ]
  },
  {
   "cell_type": "markdown",
   "id": "c2def03d",
   "metadata": {},
   "source": [
    "Now, let's look at `relhum`'s docstring to see what it does. \n"
   ]
  },
  {
   "cell_type": "markdown",
   "id": "74e74554",
   "metadata": {
    "vscode": {
     "languageId": "html"
    }
   },
   "source": [
    "<iframe src=\"https://geocat-comp.readthedocs.io/en/stable/user_api/generated/geocat.comp.meteorology.relhum.html\" title=\"geocat-comp relhum documentation\" width=100% height=600></iframe>"
   ]
  },
  {
   "cell_type": "code",
   "execution_count": null,
   "id": "ab7573b0",
   "metadata": {},
   "outputs": [],
   "source": []
  }
 ],
 "metadata": {
  "kernelspec": {
   "display_name": "Python 3.9.12 64-bit",
   "language": "python",
   "name": "python3"
  },
  "language_info": {
   "codemirror_mode": {
    "name": "ipython",
    "version": 3
   },
   "file_extension": ".py",
   "mimetype": "text/x-python",
   "name": "python",
   "nbconvert_exporter": "python",
   "pygments_lexer": "ipython3",
   "version": "3.9.12"
  },
  "vscode": {
   "interpreter": {
    "hash": "aee8b7b246df8f9039afb4144a1f6fd8d2ca17a180786b69acc140d282b71a49"
   }
  }
 },
 "nbformat": 4,
 "nbformat_minor": 5
}
