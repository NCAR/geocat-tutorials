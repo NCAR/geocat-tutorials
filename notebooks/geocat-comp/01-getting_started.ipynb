{
 "cells": [
  {
   "cell_type": "markdown",
   "id": "fc5f7b4b-a30e-4766-96ef-8dfc86dc44b5",
   "metadata": {},
   "source": [
    "# A Soft Starter: Relative Humidity"
   ]
  },
  {
   "cell_type": "markdown",
   "id": "b0b9da87-fb66-4b05-8b29-ab86f747b2a8",
   "metadata": {},
   "source": [
    "This notebook will show how to use a simple geocat-comp function just to show you how to get comfortable using the package."
   ]
  },
  {
   "cell_type": "code",
   "execution_count": null,
   "id": "c787ba84-5ea2-4833-8afa-f978d98af18f",
   "metadata": {},
   "outputs": [],
   "source": []
  }
 ],
 "metadata": {
  "kernelspec": {
   "display_name": "Python 3 (ipykernel)",
   "language": "python",
   "name": "python3"
  },
  "language_info": {
   "codemirror_mode": {
    "name": "ipython",
    "version": 3
   },
   "file_extension": ".py",
   "mimetype": "text/x-python",
   "name": "python",
   "nbconvert_exporter": "python",
   "pygments_lexer": "ipython3",
   "version": "3.9.13"
  }
 },
 "nbformat": 4,
 "nbformat_minor": 5
}
