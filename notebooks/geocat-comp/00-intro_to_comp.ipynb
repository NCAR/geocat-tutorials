{
 "cells": [
  {
   "cell_type": "markdown",
   "id": "ce951d3e",
   "metadata": {
    "slideshow": {
     "slide_type": "slide"
    }
   },
   "source": [
    "# Introduction to GeoCAT-comp"
   ]
  },
  {
   "cell_type": "markdown",
   "id": "bfd7fcee",
   "metadata": {
    "slideshow": {
     "slide_type": "skip"
    }
   },
   "source": [
    "To see this notebook as a slideshow, run:\n",
    "```bash\n",
    "jupyter nbconvert 00-intro_to_comp.ipynb --to slides --post serve\n",
    "```"
   ]
  },
  {
   "cell_type": "markdown",
   "id": "b5faca42",
   "metadata": {
    "slideshow": {
     "slide_type": "slide"
    }
   },
   "source": [
    "## What is GeoCAT-comp?"
   ]
  },
  {
   "cell_type": "markdown",
   "id": "0e9eb00d-d199-417d-a942-672db433ccd7",
   "metadata": {
    "slideshow": {
     "slide_type": "fragment"
    },
    "tags": []
   },
   "source": [
    "GeoCAT-comp is the main repository for the computational functions of the project."
   ]
  },
  {
   "cell_type": "markdown",
   "id": "fa53d558",
   "metadata": {
    "slideshow": {
     "slide_type": "fragment"
    }
   },
   "source": [
    "These functions are in pure Python, and they compute derived data values, calculate statistical summaries, and do any other data transformations that don’t include visualizations."
   ]
  },
  {
   "cell_type": "markdown",
   "id": "d2d87fa2-2de1-4b0e-8672-8feadf4142fe",
   "metadata": {
    "slideshow": {
     "slide_type": "fragment"
    },
    "tags": []
   },
   "source": [
    "Many of these functions are Python-based modernizations of NCL functions"
   ]
  },
  {
   "cell_type": "markdown",
   "id": "5324c87e",
   "metadata": {
    "slideshow": {
     "slide_type": "fragment"
    }
   },
   "source": [
    "<img src=\"../images/geocat-comp/comp_structure.png\" width=\"50%\" alt=\"daylight_fao56 NCL documentation\">"
   ]
  },
  {
   "cell_type": "markdown",
   "id": "4349593d-46ab-40f9-b7b8-30950291f925",
   "metadata": {
    "slideshow": {
     "slide_type": "slide"
    },
    "tags": []
   },
   "source": [
    "## GeoCAT-f2py\n",
    "\n",
    "From a user perspective GeoCAT-comp also insludes compiled code implementations housed in GeoCAT-f2py"
   ]
  },
  {
   "cell_type": "markdown",
   "id": "6b02f62e-b445-4e60-8f29-46ab684f20fb",
   "metadata": {
    "slideshow": {
     "slide_type": "fragment"
    },
    "tags": []
   },
   "source": [
    "On linux and mac, when you install GeoCAT-comp, GeoCAT-f2py is automatically installed into the same namespace, which means you get all the functions housed in the GeoCAT-f2py as well. \n",
    "\n",
    "These functions under the GeoCAT-f2py repository are made of python wrappers around compiled Fortran code."
   ]
  },
  {
   "cell_type": "markdown",
   "id": "51e31eb8",
   "metadata": {
    "slideshow": {
     "slide_type": "slide"
    },
    "tags": []
   },
   "source": [
    "## GeoCAT-comp Documentation"
   ]
  },
  {
   "cell_type": "markdown",
   "id": "0622a129",
   "metadata": {
    "slideshow": {
     "slide_type": "fragment"
    },
    "tags": []
   },
   "source": [
    "For the most up-to-date material on `geocat-comp`, visit the [GeoCAT-comp documentation](https://geocat-comp.readthedocs.io/en/stable/).\n",
    "\n",
    "<iframe src=\"https://geocat-comp.readthedocs.io/en/latest/\" title=\"geocat-comp documentation homepage\" width=100% height=450></iframe>"
   ]
  },
  {
   "cell_type": "markdown",
   "id": "af940b18",
   "metadata": {
    "slideshow": {
     "slide_type": "slide"
    },
    "tags": []
   },
   "source": [
    "## How to get help\n",
    "\n",
    "We really want your involvement! Having trouble getting our package to work? Want a new feature from us? Found a bug? Please let us know. There are several ways to reach out to our team:"
   ]
  },
  {
   "cell_type": "markdown",
   "id": "e115d68d-5ec7-432e-b7a8-a31f538d09da",
   "metadata": {
    "slideshow": {
     "slide_type": "fragment"
    },
    "tags": []
   },
   "source": [
    "- Submitting an issue on our [GitHub repository](https://github.com/NCAR/geocat-comp/issues)"
   ]
  },
  {
   "cell_type": "markdown",
   "id": "455a3c82-cdc5-4303-9044-76c1770759b9",
   "metadata": {
    "slideshow": {
     "slide_type": "fragment"
    },
    "tags": []
   },
   "source": [
    "- Scheduling a meeting though ESDS office hours"
   ]
  },
  {
   "cell_type": "markdown",
   "id": "da7b13c3-0ad6-4699-ac8d-edd503ddb147",
   "metadata": {
    "slideshow": {
     "slide_type": "fragment"
    },
    "tags": []
   },
   "source": [
    "- Emailing us directly at geocat@ucar.edu"
   ]
  },
  {
   "cell_type": "markdown",
   "id": "ef0c0f0c",
   "metadata": {
    "slideshow": {
     "slide_type": "slide"
    }
   },
   "source": [
    "## How to get involved\n",
    "\n",
    "We also really really want your input, and we want to make it as easy as possible for you to contribute to our project. Here are some resources to help you get started:"
   ]
  },
  {
   "cell_type": "markdown",
   "id": "a420f95c-c6f3-489f-9593-7df5cbd8d28d",
   "metadata": {
    "slideshow": {
     "slide_type": "fragment"
    },
    "tags": []
   },
   "source": [
    "- Use our [feature request form](https://docs.google.com/forms/d/e/1FAIpQLSeWuogl8Z671et3DdrmglenBPKGFmHVHkpSamTQeoPGuytLZw/viewform) to let us know that there's something specific you'd like us to prioritize"
   ]
  },
  {
   "cell_type": "markdown",
   "id": "f96a17cd",
   "metadata": {
    "slideshow": {
     "slide_type": "fragment"
    }
   },
   "source": [
    "- Check out GeoCAT's [Contributor's Guide](https://geocat.ucar.edu/pages/contributing.html) and [GeoCAT-comp's specific guide](https://github.com/NCAR/geocat-comp/blob/main/CONTRIBUTING.md) to learn how to get started."
   ]
  }
 ],
 "metadata": {
  "celltoolbar": "Slideshow",
  "kernelspec": {
   "display_name": "Python 3.10.6 ('geocat')",
   "language": "python",
   "name": "python3"
  },
  "language_info": {
   "codemirror_mode": {
    "name": "ipython",
    "version": 3
   },
   "file_extension": ".py",
   "mimetype": "text/x-python",
   "name": "python",
   "nbconvert_exporter": "python",
   "pygments_lexer": "ipython3",
   "version": "3.10.6"
  },
  "vscode": {
   "interpreter": {
    "hash": "7961b2108ee7d1ae8b8cda2085110605487fed8e1d2fc7de0f719df8d0b8bd85"
   }
  }
 },
 "nbformat": 4,
 "nbformat_minor": 5
}
