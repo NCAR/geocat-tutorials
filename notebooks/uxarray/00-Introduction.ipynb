{
 "cells": [
  {
   "cell_type": "markdown",
   "metadata": {},
   "source": [
    "<img src=\"../images/logos/UXarray_temp_logo.png\" align=\"left\" width=\"20%\" alt=\"UXarray logo\">\n",
    "<img src=\"../images/logos/ProjectRaijin_Logo.png\" align=\"center\" width=\"50%\" alt=\"Raijin logo\">\n",
    "<img src=\"../images/logos/NSF_Official_logo.svg\" align=\"right\" width=\"19%\" alt=\"NSF logo\">"
   ]
  },
  {
   "cell_type": "markdown",
   "metadata": {
    "pycharm": {
     "name": "#%% md\n"
    }
   },
   "source": [
    "# What is UXarray?\n",
    "\n",
    "\n"
   ]
  },
  {
   "cell_type": "markdown",
   "metadata": {},
   "source": [
    "## UXarray Goals\n",
    "\n"
   ]
  },
  {
   "cell_type": "markdown",
   "metadata": {
    "pycharm": {
     "name": "#%% md\n"
    }
   },
   "source": [
    "## Some UXarray Resources\n",
    "\n",
    "[Homepage](https://uxarray.readthedocs.io/)\n",
    "\n",
    "[Project Raijin](https://raijin.ucar.edu/)\n"
   ]
  },
  {
   "cell_type": "markdown",
   "metadata": {},
   "source": [
    "# UXarray Continuous Integration and Continuous Delivery/Deployment\n",
    "\n",
    "UXarray employs a continuous delivery model, with a monthly package release\n",
    "cycle on package management systems and package indexes such as\n",
    "[Conda](https://anaconda.org/search?q=uxarray) and\n",
    "[PyPI](https://pypi.org/search/?q=uxarray).\n",
    "\n"
   ]
  }
 ],
 "metadata": {
  "kernelspec": {
   "display_name": "Python 3 (ipykernel)",
   "language": "python",
   "name": "python3"
  },
  "language_info": {
   "codemirror_mode": {
    "name": "ipython",
    "version": 3
   },
   "file_extension": ".py",
   "mimetype": "text/x-python",
   "name": "python",
   "nbconvert_exporter": "python",
   "pygments_lexer": "ipython3",
   "version": "3.10.6"
  }
 },
 "nbformat": 4,
 "nbformat_minor": 4
}