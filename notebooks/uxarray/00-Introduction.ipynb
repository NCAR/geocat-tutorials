{
 "cells": [
  {
   "cell_type": "markdown",
   "metadata": {},
   "source": [
    "# Intro to UXarray"
   ]
  },
  {
   "cell_type": "markdown",
   "metadata": {},
   "source": [
    "<img src=\"../images/logos/UXarray_temp_logo.png\" align=\"left\" width=\"20%\" alt=\"UXarray logo\">\n",
    "<img src=\"../images/logos/ProjectRaijin_Logo.png\" align=\"center\" width=\"29%\" alt=\"Raijin logo\">\n",
    "<img src=\"../images/logos/NSF_Official_logo.svg\" align=\"right\" width=\"19%\" alt=\"NSF logo\">"
   ]
  },
  {
   "cell_type": "markdown",
   "metadata": {
    "pycharm": {
     "name": "#%% md\n"
    }
   },
   "source": [
    "## What is UXarray?\n",
    "\n",
    "UXarray, a new Python package based on Xarray, supports reading and\n",
    "recognizing unstructured grid models. Initially, it will support: MPAS\n",
    "(atmosphere and ocean), SE, FV3, and ICON. UXarray follows the model of the\n",
    "UGRID specification, currently under consideration to be included in the\n",
    "netCDF CF conventions, as well as support SCRIP, Exodus, and shapefile\n",
    "formats for the internal representation of auxiliary data needed to describe\n",
    "an unstructured mesh (e.g. cell types and cell connectivity information).\n",
    "\n",
    "> **Warning**  \n",
    "> UXarray is still in the early development phase. So, please\n",
    "> be careful when using it, and let us know if you have any thoughts, ideas,\n",
    "> requests, or findings!\n",
    "\n",
    "Basing UXarray on Xarray will facilitate interoperability with the multitude\n",
    "of Xarray-compatible packages, a priority for this work."
   ]
  },
  {
   "cell_type": "markdown",
   "metadata": {},
   "source": [
    "## Open development and community engagement\n",
    "\n",
    "The UXarray effort is a result of the collaboration between NCAR's [Project\n",
    "Raijin](https://raijin.ucar.edu/) and DOE’s SEATS Project. Community members\n",
    "are encouraged to become part of this collaboration at any level of\n",
    "contribution.\n"
   ]
  },
  {
   "cell_type": "markdown",
   "metadata": {
    "pycharm": {
     "name": "#%% md\n"
    }
   },
   "source": [
    "### Some UXarray Resources\n",
    "\n",
    "[Homepage](https://uxarray.readthedocs.io/)\n",
    "\n",
    "[Project Raijin](https://raijin.ucar.edu/)\n",
    "\n",
    "[GitHub repository](https://github.com/UXARRAY/uxarray)\n"
   ]
  },
  {
   "cell_type": "markdown",
   "metadata": {},
   "source": [
    "## UXarray Continuous Integration and Continuous Delivery/Deployment\n",
    "\n",
    "UXarray employs a continuous delivery model, with a monthly package release\n",
    "cycle on package management systems and package indexes such as\n",
    "[Conda](https://anaconda.org/search?q=uxarray) and\n",
    "[PyPI](https://pypi.org/search/?q=uxarray).\n",
    "\n"
   ]
  }
 ],
 "metadata": {
  "kernelspec": {
   "display_name": "Python 3 (ipykernel)",
   "language": "python",
   "name": "python3"
  },
  "language_info": {
   "codemirror_mode": {
    "name": "ipython",
    "version": 3
   },
   "file_extension": ".py",
   "mimetype": "text/x-python",
   "name": "python",
   "nbconvert_exporter": "python",
   "pygments_lexer": "ipython3",
   "version": "3.10.6"
  }
 },
 "nbformat": 4,
 "nbformat_minor": 4
}
